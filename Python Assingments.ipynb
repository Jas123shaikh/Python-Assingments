{
 "cells": [
  {
   "cell_type": "markdown",
   "id": "06c60756",
   "metadata": {},
   "source": [
    "# Basics of python\n",
    "1. Write a program to print your name"
   ]
  },
  {
   "cell_type": "code",
   "execution_count": 1,
   "id": "102e0b6a",
   "metadata": {},
   "outputs": [
    {
     "name": "stdout",
     "output_type": "stream",
     "text": [
      "Jasmine\n"
     ]
    }
   ],
   "source": [
    "print(\"Jasmine\")"
   ]
  },
  {
   "cell_type": "markdown",
   "id": "48e45bf0",
   "metadata": {},
   "source": [
    "2. Write a program for single line comment and multi line comment"
   ]
  },
  {
   "cell_type": "code",
   "execution_count": 2,
   "id": "bf00ccc1",
   "metadata": {},
   "outputs": [
    {
     "name": "stdout",
     "output_type": "stream",
     "text": [
      "Multi-line commenting\n"
     ]
    }
   ],
   "source": [
    "# This is a single line comment\n",
    "\n",
    "\"\"\" \n",
    "This is a multi-line comment\n",
    "It can span multiple lines\n",
    "\"\"\"\n",
    "print(\"Multi-line commenting\")"
   ]
  },
  {
   "cell_type": "markdown",
   "id": "864adc87",
   "metadata": {},
   "source": [
    "3. Define variables for different datatypes  int, Boolean, char, float, double and print on the Console. "
   ]
  },
  {
   "cell_type": "code",
   "execution_count": 3,
   "id": "1952d5e5",
   "metadata": {},
   "outputs": [
    {
     "name": "stdout",
     "output_type": "stream",
     "text": [
      "Type of a: <class 'int'>\n"
     ]
    }
   ],
   "source": [
    "a = -5\n",
    "print(\"Type of a:\", type(a))"
   ]
  },
  {
   "cell_type": "code",
   "execution_count": 4,
   "id": "5120baac",
   "metadata": {},
   "outputs": [
    {
     "name": "stdout",
     "output_type": "stream",
     "text": [
      "type of b: <class 'bool'>\n"
     ]
    }
   ],
   "source": [
    "b = False\n",
    "print(\"type of b:\",type(b))"
   ]
  },
  {
   "cell_type": "code",
   "execution_count": 5,
   "id": "b3db512f",
   "metadata": {},
   "outputs": [
    {
     "name": "stdout",
     "output_type": "stream",
     "text": [
      "Type of c: <class 'float'>\n"
     ]
    }
   ],
   "source": [
    "c = 5.0\n",
    "print(\"Type of c:\", type(c))"
   ]
  },
  {
   "cell_type": "code",
   "execution_count": 6,
   "id": "40455a4e",
   "metadata": {},
   "outputs": [
    {
     "name": "stdout",
     "output_type": "stream",
     "text": [
      "Type of string: <class 'str'>\n"
     ]
    }
   ],
   "source": [
    "String = 'Hello'\n",
    "print(\"Type of string:\", type(String))"
   ]
  },
  {
   "cell_type": "markdown",
   "id": "ae3b067c",
   "metadata": {},
   "source": [
    "4.Define the local and Global variables with the same name and print both variables and understand the scope of the variables "
   ]
  },
  {
   "cell_type": "code",
   "execution_count": 7,
   "id": "16b031a2",
   "metadata": {},
   "outputs": [
    {
     "name": "stdout",
     "output_type": "stream",
     "text": [
      "global : 5\n",
      "Inside f() : 5\n",
      "global : 5\n",
      "Inside g() : 2\n",
      "global : 5\n",
      "Inside h() : 4\n",
      "global : 4\n"
     ]
    }
   ],
   "source": [
    "a = 5\n",
    "\n",
    "# Uses global because there is no local \"a\"\n",
    "def f():\n",
    "    print('Inside f() :' , a)\n",
    "    \n",
    "# Variable a is redefined as  a local\n",
    "def g():\n",
    "    a = 2 \n",
    "    print('Inside g() :' , a)\n",
    "    \n",
    "# Uses global keyword to modify global 'a' \n",
    "def h():\n",
    "    global a\n",
    "    a = 4 # Value of a modified\n",
    "    print('Inside h() :' , a)\n",
    "    \n",
    "# Global scope\n",
    "print('global :' , a)\n",
    "f()\n",
    "print('global :' , a)\n",
    "g()\n",
    "print('global :' , a)\n",
    "h()\n",
    "print('global :' , a)"
   ]
  },
  {
   "cell_type": "markdown",
   "id": "94caed9b",
   "metadata": {},
   "source": [
    "# Operators\n",
    "1. Write a function for arithmetic operators(+,-,*,/)"
   ]
  },
  {
   "cell_type": "code",
   "execution_count": 8,
   "id": "bfcfa2e0",
   "metadata": {},
   "outputs": [
    {
     "name": "stdout",
     "output_type": "stream",
     "text": [
      "Enter first number45\n",
      "Enter second number7\n"
     ]
    }
   ],
   "source": [
    "num1 = input('Enter first number')\n",
    "num2 = input('Enter second number')"
   ]
  },
  {
   "cell_type": "code",
   "execution_count": 9,
   "id": "c472e94b",
   "metadata": {},
   "outputs": [
    {
     "name": "stdout",
     "output_type": "stream",
     "text": [
      "The sum of 45 and 7 is 52.0\n"
     ]
    }
   ],
   "source": [
    "# Add two numbers\n",
    "sum = float(num1) + float(num2)\n",
    "# Display the sum \n",
    "print('The sum of {0} and {1} is {2}'.format(num1, num2, sum))  "
   ]
  },
  {
   "cell_type": "code",
   "execution_count": 10,
   "id": "e151c857",
   "metadata": {},
   "outputs": [
    {
     "name": "stdout",
     "output_type": "stream",
     "text": [
      "The subtraction of 45 and 7 is 38.0\n"
     ]
    }
   ],
   "source": [
    "# Subtract two numbers\n",
    "min = float(num1) - float(num2)\n",
    "# Display the suntraction\n",
    "print('The subtraction of {0} and {1} is {2}'.format(num1, num2, min))  "
   ]
  },
  {
   "cell_type": "code",
   "execution_count": 11,
   "id": "77482b78",
   "metadata": {},
   "outputs": [
    {
     "name": "stdout",
     "output_type": "stream",
     "text": [
      "The multiplication of 45 and 7 is 315.0\n"
     ]
    }
   ],
   "source": [
    "# Multiply two numbers\n",
    "mul = float(num1) * float(num2)\n",
    "# Display the multiplication\n",
    "print('The multiplication of {0} and {1} is {2}'.format(num1, num2, mul))  "
   ]
  },
  {
   "cell_type": "code",
   "execution_count": 12,
   "id": "2c1c601c",
   "metadata": {},
   "outputs": [
    {
     "name": "stdout",
     "output_type": "stream",
     "text": [
      "The division of 45 and 7 is 6.428571428571429\n"
     ]
    }
   ],
   "source": [
    "# Divide two numbers\n",
    "div = float(num1) / float(num2)\n",
    "# Display the division\n",
    "print('The division of {0} and {1} is {2}'.format(num1, num2, div))  "
   ]
  },
  {
   "cell_type": "markdown",
   "id": "36e1b9ac",
   "metadata": {},
   "source": [
    "2.  Write a method for increment and decrement operators(++, --)"
   ]
  },
  {
   "cell_type": "code",
   "execution_count": 13,
   "id": "84cfa9dc",
   "metadata": {},
   "outputs": [
    {
     "name": "stdout",
     "output_type": "stream",
     "text": [
      "The value of a is 2\n"
     ]
    }
   ],
   "source": [
    "# A sample use of increasing the variable value by one.\n",
    "a = 0\n",
    "a +=1\n",
    "a = a+1\n",
    "print('The value of a is', a)"
   ]
  },
  {
   "cell_type": "code",
   "execution_count": 14,
   "id": "bb4522ed",
   "metadata": {},
   "outputs": [
    {
     "name": "stdout",
     "output_type": "stream",
     "text": [
      "INCREMENTED FOR LOOP\n",
      "0\n",
      "1\n",
      "2\n",
      "3\n",
      "4\n",
      "\n",
      " DECREMENTED FOR LOOP\n",
      "4\n",
      "3\n",
      "2\n",
      "1\n",
      "0\n"
     ]
    }
   ],
   "source": [
    "# Use of increment operator, here start = 1,step = 1(by default) and stop = 5 \n",
    "print(\"INCREMENTED FOR LOOP\")\n",
    "for i in range(0,5):\n",
    "    print(i)\n",
    "    \n",
    "#Use of decrement operator, here start = 5, step = -1 and  stop = -1\n",
    "print(\"\\n DECREMENTED FOR LOOP\")\n",
    "for i in range(4, -1, -1):\n",
    "    print(i)"
   ]
  },
  {
   "cell_type": "markdown",
   "id": "69cf5a2d",
   "metadata": {},
   "source": [
    "3. Write a program to find the two numbers equal or not."
   ]
  },
  {
   "cell_type": "code",
   "execution_count": 15,
   "id": "7b697b9b",
   "metadata": {},
   "outputs": [
    {
     "name": "stdout",
     "output_type": "stream",
     "text": [
      "Enter first number:67\n",
      "Enter second number:43\n",
      "Both numbers are not equal\n"
     ]
    }
   ],
   "source": [
    "a = input('Enter first number:')\n",
    "b = input('Enter second number:')\n",
    "if a==b:\n",
    "    print(\"Both numbers are equal\")\n",
    "else:\n",
    "    print(\"Both numbers are not equal\")\n",
    "        "
   ]
  },
  {
   "cell_type": "markdown",
   "id": "00135b9f",
   "metadata": {},
   "source": [
    "4. Program for relational operators (<,<==, >, >==)"
   ]
  },
  {
   "cell_type": "code",
   "execution_count": 16,
   "id": "151162d8",
   "metadata": {},
   "outputs": [
    {
     "name": "stdout",
     "output_type": "stream",
     "text": [
      "True\n",
      "True\n",
      "False\n",
      "False\n",
      "False\n",
      "True\n"
     ]
    }
   ],
   "source": [
    "a = 4\n",
    "b = 5\n",
    "print(a < b)  #This operator(<) returns True if the left operand is less than the right operand.\n",
    "print(a <= b) #This operator(<=)returns True if the left operand is less than or equal to the right operand.\n",
    "print(a > b)  #This operator(>) returns True if the left operand is greater than the right operand.\n",
    "print(a >= b) #This operator(>=)returns True if the left operand is greater than or equal to the right operand.   \n",
    "print(a == b) #This operator(==)returns True if both the operands are equal to each other.\n",
    "print(a != b) #This operator(!=)returns True if both the operands are not equal."
   ]
  },
  {
   "cell_type": "markdown",
   "id": "2c479898",
   "metadata": {},
   "source": [
    "5. Print the smaller and larger number."
   ]
  },
  {
   "cell_type": "code",
   "execution_count": 17,
   "id": "4d3f8059",
   "metadata": {},
   "outputs": [
    {
     "name": "stdout",
     "output_type": "stream",
     "text": [
      "Enter first number: 56\n",
      "Enter second number: 90\n",
      "90.0 is greater\n"
     ]
    }
   ],
   "source": [
    "a = float(input('Enter first number: '))\n",
    "b = float(input('Enter second number: '))\n",
    "#To print the larger number \n",
    "if a > b:\n",
    "    print(a, \"is greater\")\n",
    "else:\n",
    "    print(b, \"is greater\")"
   ]
  },
  {
   "cell_type": "code",
   "execution_count": 18,
   "id": "b602481e",
   "metadata": {},
   "outputs": [
    {
     "name": "stdout",
     "output_type": "stream",
     "text": [
      "56.0 is smaller\n"
     ]
    }
   ],
   "source": [
    "#To print the smaller number\n",
    "if a < b:\n",
    "    print(a,\"is smaller\")\n",
    "else:\n",
    "    print(b,\"is smaller\")"
   ]
  },
  {
   "cell_type": "markdown",
   "id": "206ac9eb",
   "metadata": {},
   "source": [
    "# Loops \n",
    "1.Write a program to print “Bright IT Career” ten times using for loop.\n"
   ]
  },
  {
   "cell_type": "code",
   "execution_count": 19,
   "id": "f860982d",
   "metadata": {},
   "outputs": [
    {
     "name": "stdout",
     "output_type": "stream",
     "text": [
      "Bright IT Career\n",
      "Bright IT Career\n",
      "Bright IT Career\n",
      "Bright IT Career\n",
      "Bright IT Career\n",
      "Bright IT Career\n",
      "Bright IT Career\n",
      "Bright IT Career\n",
      "Bright IT Career\n",
      "Bright IT Career\n"
     ]
    }
   ],
   "source": [
    "from tkinter import N\n",
    "\n",
    "#Declaring variable\n",
    "\n",
    "a = \"Bright IT Career\"\n",
    "#using loop to print \"Bright IT Career\" 10 times\n",
    "for i in range(10):\n",
    "    print(a)"
   ]
  },
  {
   "cell_type": "markdown",
   "id": "2f5c50a0",
   "metadata": {},
   "source": [
    "2. Write a program to print 1 to 20 numbers using the while loop."
   ]
  },
  {
   "cell_type": "code",
   "execution_count": 20,
   "id": "c9bf6d51",
   "metadata": {},
   "outputs": [
    {
     "name": "stdout",
     "output_type": "stream",
     "text": [
      "1\n",
      "2\n",
      "3\n",
      "4\n",
      "5\n",
      "6\n",
      "7\n",
      "8\n",
      "9\n",
      "10\n",
      "11\n",
      "12\n",
      "13\n",
      "14\n",
      "15\n",
      "16\n",
      "17\n",
      "18\n",
      "19\n",
      "20\n"
     ]
    }
   ],
   "source": [
    "i = 1\n",
    "#using while loop to print numbers 1 to 20  \n",
    "while (i<=20):\n",
    "    print(i)\n",
    "    i+=1"
   ]
  },
  {
   "cell_type": "markdown",
   "id": "5a600a2b",
   "metadata": {},
   "source": [
    "3. Program to equal operator and not equal operators.\n"
   ]
  },
  {
   "cell_type": "code",
   "execution_count": 21,
   "id": "814099cb",
   "metadata": {},
   "outputs": [
    {
     "name": "stdout",
     "output_type": "stream",
     "text": [
      "False\n",
      "True\n"
     ]
    }
   ],
   "source": [
    "a = 5\n",
    "b = 10\n",
    "print(a == b) #Equal operator\n",
    "print(a != b) #Not equal operator"
   ]
  },
  {
   "cell_type": "markdown",
   "id": "b5b8dafe",
   "metadata": {},
   "source": [
    "4.Write a program to print the odd and even numbers."
   ]
  },
  {
   "cell_type": "code",
   "execution_count": 22,
   "id": "c2f7211d",
   "metadata": {},
   "outputs": [
    {
     "name": "stdout",
     "output_type": "stream",
     "text": [
      "Even Numbers: \n",
      "2 4 6 8 10 \n",
      "Odd Numbers: \n",
      "1 3 5 7 9 \n"
     ]
    }
   ],
   "source": [
    "Numbers = [1,2,3,4,5,6,7,8,9,10]\n",
    "print(\"Even Numbers: \")\n",
    "for i in Numbers:\n",
    "    if i % 2 == 0:\n",
    "        print(i, end=\" \")\n",
    "print(\"\\nOdd Numbers: \")\n",
    "for i in Numbers:\n",
    "    if i % 2 != 0:\n",
    "        print(i, end= \" \")\n",
    "print()"
   ]
  },
  {
   "cell_type": "markdown",
   "id": "79064b31",
   "metadata": {},
   "source": [
    " 5.Write a program to print largest number among three numbers.\n"
   ]
  },
  {
   "cell_type": "code",
   "execution_count": 23,
   "id": "ce7feae1",
   "metadata": {},
   "outputs": [
    {
     "name": "stdout",
     "output_type": "stream",
     "text": [
      "Largest Number is:  90\n"
     ]
    }
   ],
   "source": [
    "k = 40\n",
    "a = 50\n",
    "s = 90\n",
    "if k >=a and k >=s:\n",
    "    largest = k\n",
    "elif a>=k and a>=s:\n",
    "    largest = a\n",
    "else:\n",
    "    largest = s\n",
    "    print(\"Largest Number is: \", largest)"
   ]
  },
  {
   "cell_type": "markdown",
   "id": "e0a41eca",
   "metadata": {},
   "source": [
    "6.Write a program to print even number between 10 and 20 using while."
   ]
  },
  {
   "cell_type": "code",
   "execution_count": 24,
   "id": "a93cb179",
   "metadata": {},
   "outputs": [
    {
     "name": "stdout",
     "output_type": "stream",
     "text": [
      "Even numbers between 10 to 20:  10 12 14 16 18 20 \n"
     ]
    }
   ],
   "source": [
    "a = 10\n",
    "b = 20\n",
    "print(\"Even numbers between 10 to 20: \", end=\" \")\n",
    "while a <= b:\n",
    "    if(a % 2 == 0):\n",
    "        print(\"{0}\".format(a),end=\" \")\n",
    "    a = a + 1\n",
    "print()\n",
    "        "
   ]
  },
  {
   "cell_type": "markdown",
   "id": "276b0a02",
   "metadata": {},
   "source": [
    "7.Write a program to print 1 to 10 using the do-while loop statement."
   ]
  },
  {
   "cell_type": "code",
   "execution_count": 25,
   "id": "00e49b83",
   "metadata": {},
   "outputs": [
    {
     "name": "stdout",
     "output_type": "stream",
     "text": [
      "1 to 10 using the do-while loop statement:  1 2 3 4 5 6 7 8 9 10 \n"
     ]
    }
   ],
   "source": [
    "a = 1\n",
    "print(\"1 to 10 using the do-while loop statement: \",end= \" \")\n",
    "while True:\n",
    "    print(a,end=\" \")\n",
    "    a = a + 1\n",
    "    if(a > 10):\n",
    "        break\n",
    "print()        "
   ]
  },
  {
   "cell_type": "markdown",
   "id": "e7f46ac6",
   "metadata": {},
   "source": [
    "8.Write a program to find Armstrong number or not."
   ]
  },
  {
   "cell_type": "code",
   "execution_count": 26,
   "id": "a4adb0d3",
   "metadata": {},
   "outputs": [
    {
     "name": "stdout",
     "output_type": "stream",
     "text": [
      "Enter a number to check if its Armstrong or not: 6789\n",
      "6789  is not an armstrong number\n"
     ]
    }
   ],
   "source": [
    "a = int(input(\"Enter a number to check if its Armstrong or not: \"))\n",
    "sum = 0\n",
    "temp = 0\n",
    "temp = a\n",
    "while temp > 0:\n",
    "    r = temp % 10\n",
    "    sum += r ** 3\n",
    "    temp //= 10\n",
    "if a == sum:\n",
    "    print(a,\" is an armstrong number\")\n",
    "else:\n",
    "    print(a,\" is not an armstrong number\")"
   ]
  },
  {
   "cell_type": "markdown",
   "id": "b0a886c5",
   "metadata": {},
   "source": [
    "9. Write a program to find the prime or not."
   ]
  },
  {
   "cell_type": "code",
   "execution_count": 27,
   "id": "fe0f4374",
   "metadata": {},
   "outputs": [
    {
     "name": "stdout",
     "output_type": "stream",
     "text": [
      "Enter any number to check prime number ot not: 778\n",
      "778 is not a prime number\n"
     ]
    }
   ],
   "source": [
    "number = int(input(\"Enter any number to check prime number ot not: \"))\n",
    "# prime number alwayus greater than 1\n",
    "\n",
    "if number > 1:\n",
    "    for i in range(2,number):\n",
    "        if (number % 1 == 0):\n",
    "            print(number,\"is not a prime number\")\n",
    "            break\n",
    "        else:\n",
    "            print(number,\"is a prime number\")\n",
    "# if the number entered is less <=1 then it is not a prime number   "
   ]
  },
  {
   "cell_type": "markdown",
   "id": "22005b50",
   "metadata": {},
   "source": [
    "10. Write a program to palindrome or not."
   ]
  },
  {
   "cell_type": "code",
   "execution_count": 28,
   "id": "c133f032",
   "metadata": {},
   "outputs": [
    {
     "name": "stdout",
     "output_type": "stream",
     "text": [
      "Enter a number to check palindrome or not: 778\n",
      "The number is not a Palindrome\n"
     ]
    }
   ],
   "source": [
    "n = int(input(\"Enter a number to check palindrome or not: \"))\n",
    "temp = n\n",
    "rev = 0\n",
    "while(n > 0):\n",
    "    dig = n % 10\n",
    "    rev = rev * 10 +dig\n",
    "    n //= 10\n",
    "if (temp == rev):\n",
    "    print(\"The number is a Palindrome\")\n",
    "else:\n",
    "    print(\"The number is not a Palindrome\")"
   ]
  },
  {
   "cell_type": "markdown",
   "id": "afacf9de",
   "metadata": {},
   "source": [
    "11.Program to check whether a number is EVEN or ODD."
   ]
  },
  {
   "cell_type": "code",
   "execution_count": 29,
   "id": "79d9760e",
   "metadata": {},
   "outputs": [
    {
     "name": "stdout",
     "output_type": "stream",
     "text": [
      "Enter a number to check its Even or Odd: 78\n",
      "78 is Even number\n"
     ]
    }
   ],
   "source": [
    "a = int(input(\"Enter a number to check its Even or Odd: \"))\n",
    "if a % 2 == 0:\n",
    "    print(\"{0} is Even number\".format(a))\n",
    "else:\n",
    "    print(\"{0} is Odd number\".format(a))"
   ]
  },
  {
   "cell_type": "markdown",
   "id": "ef10aaa6",
   "metadata": {},
   "source": [
    "# Array\n",
    "1. Write a function to add integer values of an array.\n"
   ]
  },
  {
   "cell_type": "code",
   "execution_count": 30,
   "id": "d3d30e72",
   "metadata": {},
   "outputs": [
    {
     "name": "stdout",
     "output_type": "stream",
     "text": [
      "Sum of all integer values in array:  91\n"
     ]
    },
    {
     "name": "stderr",
     "output_type": "stream",
     "text": [
      "C:\\Users\\ASC\\AppData\\Local\\Temp\\ipykernel_6396\\4157305873.py:1: DeprecationWarning: 'audioop' is deprecated and slated for removal in Python 3.13\n",
      "  from audioop import avg\n"
     ]
    }
   ],
   "source": [
    "from audioop import avg\n",
    "from operator import index\n",
    "from turtle import position\n",
    "from typing import final\n",
    "\n",
    "#Initialize array\n",
    "arr = [1,20,30,40]\n",
    "sum = 0\n",
    "#Loop through the array to calculate the sum of elements\n",
    "for i in range(0,len(arr)):\n",
    "    sum = sum + arr[i]\n",
    "print(\"Sum of all integer values in array: \",sum)    "
   ]
  },
  {
   "cell_type": "markdown",
   "id": "18896d04",
   "metadata": {},
   "source": [
    "2.Write a function to calculate the average value of an array of integers."
   ]
  },
  {
   "cell_type": "code",
   "execution_count": 31,
   "id": "74e601c7",
   "metadata": {},
   "outputs": [
    {
     "name": "stdout",
     "output_type": "stream",
     "text": [
      "The average is 32.0\n"
     ]
    }
   ],
   "source": [
    "def cal_average(num):\n",
    "    sum_num = 0 \n",
    "    #Loop through the array to average value of elements\n",
    "    for i in num:\n",
    "        sum_num = sum_num + i # Add each element to the sum\n",
    "        avg = sum_num / len(num) # Compute the average\n",
    "    return avg\n",
    "\n",
    "print(\"The average is\", cal_average([10,21,32,43,54]))\n"
   ]
  },
  {
   "cell_type": "markdown",
   "id": "944b2020",
   "metadata": {},
   "source": [
    "3.Write a program to find the index of an array element."
   ]
  },
  {
   "cell_type": "code",
   "execution_count": 32,
   "id": "0c3e9674",
   "metadata": {},
   "outputs": [
    {
     "name": "stdout",
     "output_type": "stream",
     "text": [
      "Index of 3: 1\n",
      "Index of 9: 11\n",
      "Index of 8: 9\n"
     ]
    }
   ],
   "source": [
    "# Initialize an array\n",
    "arr = [1,3,5,3,1,2,6,5,3,8,6,9]\n",
    "\n",
    "# printing element at specific index in array\n",
    "index = arr.index(3)\n",
    "print(\"Index of 3:\", index)\n",
    "\n",
    "index = arr.index(9)\n",
    "print(\"Index of 9:\", index)\n",
    "\n",
    "index = arr.index(8)\n",
    "print(\"Index of 8:\", index)"
   ]
  },
  {
   "cell_type": "markdown",
   "id": "0d4a9a36",
   "metadata": {},
   "source": [
    "4. Write a function to test if array contains a specific value."
   ]
  },
  {
   "cell_type": "code",
   "execution_count": 33,
   "id": "695cb862",
   "metadata": {},
   "outputs": [
    {
     "name": "stdout",
     "output_type": "stream",
     "text": [
      "Element exists\n"
     ]
    }
   ],
   "source": [
    "arr = [4,5,45,40,50]\n",
    "#Loop through array to test if array contains a specefic value\n",
    "for num in arr:\n",
    "    if num == 50:\n",
    "        print(\"Element exists\")"
   ]
  },
  {
   "cell_type": "markdown",
   "id": "50f0ab29",
   "metadata": {},
   "source": [
    "5.Write a function to remove a specific element from an array."
   ]
  },
  {
   "cell_type": "code",
   "execution_count": 34,
   "id": "98d2fd3c",
   "metadata": {},
   "outputs": [
    {
     "name": "stdout",
     "output_type": "stream",
     "text": [
      "[44, 55, 15, 19, 5, 4]\n"
     ]
    }
   ],
   "source": [
    "arr = [44,55,0,15,19,5,4]\n",
    "\n",
    "# Removing a specific element from an array\n",
    "arr.remove(0)\n",
    "print(arr)"
   ]
  },
  {
   "cell_type": "markdown",
   "id": "fcb1518a",
   "metadata": {},
   "source": [
    "6. Write a function to copy an array to another array"
   ]
  },
  {
   "cell_type": "code",
   "execution_count": 35,
   "id": "9e4fbc9d",
   "metadata": {},
   "outputs": [
    {
     "name": "stdout",
     "output_type": "stream",
     "text": [
      "['h', 'e', 'l', 'l', 'o']\n"
     ]
    }
   ],
   "source": [
    "arr = ['h','e','l','l','o']\n",
    "arr1 = [] # creating an empty array\n",
    "arr1 = arr.copy() # copying arr in arr1\n",
    "print(arr1)"
   ]
  },
  {
   "cell_type": "markdown",
   "id": "06dfe898",
   "metadata": {},
   "source": [
    "7. Write a function to insert an element at a specific position in the array.\n"
   ]
  },
  {
   "cell_type": "code",
   "execution_count": 36,
   "id": "f1fbd505",
   "metadata": {},
   "outputs": [
    {
     "name": "stdout",
     "output_type": "stream",
     "text": [
      "[101, 202, 303, 404, 505, 606, 707, 808, 909]\n"
     ]
    }
   ],
   "source": [
    "arr = [101,303,404,505,606,707,808,909]\n",
    "arr.insert(1,202) # inserting an element at a spesific position, here at index 1.\n",
    "print(arr)"
   ]
  },
  {
   "cell_type": "markdown",
   "id": "3dc80e98",
   "metadata": {},
   "source": [
    "8.Write a function to find the minimum and maximum value of an array."
   ]
  },
  {
   "cell_type": "code",
   "execution_count": 19,
   "id": "a9b9db99",
   "metadata": {},
   "outputs": [
    {
     "ename": "NameError",
     "evalue": "name 'minposition' is not defined",
     "output_type": "error",
     "traceback": [
      "\u001b[1;31m---------------------------------------------------------------------------\u001b[0m",
      "\u001b[1;31mNameError\u001b[0m                                 Traceback (most recent call last)",
      "Cell \u001b[1;32mIn[19], line 6\u001b[0m\n\u001b[0;32m      4\u001b[0m min_val \u001b[38;5;241m=\u001b[39m \u001b[38;5;28mmin\u001b[39m(arr)\n\u001b[0;32m      5\u001b[0m min_position \u001b[38;5;241m=\u001b[39m arr\u001b[38;5;241m.\u001b[39mindex(min_val)\n\u001b[1;32m----> 6\u001b[0m \u001b[38;5;28mprint\u001b[39m(\u001b[38;5;124m\"\u001b[39m\u001b[38;5;124mThe minimum is at position: \u001b[39m\u001b[38;5;124m\"\u001b[39m, minposition)\n\u001b[0;32m      8\u001b[0m \u001b[38;5;66;03m# maximum value of an array\u001b[39;00m\n\u001b[0;32m      9\u001b[0m max_val \u001b[38;5;241m=\u001b[39m \u001b[38;5;28mmax\u001b[39m(arr)\n",
      "\u001b[1;31mNameError\u001b[0m: name 'minposition' is not defined"
     ]
    }
   ],
   "source": [
    "import numpy as np \n",
    "arr = [100,3,3000,20,500,9999,10000,10003]\n",
    "# minimum value of an array\n",
    "min_val = min(arr)\n",
    "min_position = arr.index(min_val)\n",
    "print(\"The minimum is at position: \", minposition)\n",
    "\n",
    "# maximum value of an array\n",
    "max_val = max(arr)\n",
    "max_position = arr.index(max_val)\n",
    "print(\"The maximum is at position: \", maxposition)"
   ]
  },
  {
   "cell_type": "markdown",
   "id": "c021acbd",
   "metadata": {},
   "source": [
    "9. Write a function to reverse an array of integer values."
   ]
  },
  {
   "cell_type": "code",
   "execution_count": 20,
   "id": "881c1adc",
   "metadata": {},
   "outputs": [
    {
     "name": "stdout",
     "output_type": "stream",
     "text": [
      "[5, 6, 7, 8, 9]\n"
     ]
    }
   ],
   "source": [
    "arr = [9,8,7,6,5]\n",
    "arr.reverse() # reversing array \n",
    "print(arr)"
   ]
  },
  {
   "cell_type": "markdown",
   "id": "e0941f56",
   "metadata": {},
   "source": [
    "10. Write a function to find the duplicate values of an array."
   ]
  },
  {
   "cell_type": "code",
   "execution_count": 21,
   "id": "a9c381a5",
   "metadata": {},
   "outputs": [
    {
     "name": "stdout",
     "output_type": "stream",
     "text": [
      "Duplicate element in given array:  11\n"
     ]
    }
   ],
   "source": [
    "arr = [21,11,31,13,11]\n",
    "for i in range(0,len(arr)):\n",
    "    for k in range(i + 1, len(arr)):\n",
    "        if arr[i] == arr[k]:\n",
    "            print(\"Duplicate element in given array: \", arr[k])"
   ]
  },
  {
   "cell_type": "markdown",
   "id": "95653868",
   "metadata": {},
   "source": [
    "11. Write a program to find the common values between two arrays."
   ]
  },
  {
   "cell_type": "code",
   "execution_count": 22,
   "id": "02caf8fb",
   "metadata": {},
   "outputs": [
    {
     "name": "stdout",
     "output_type": "stream",
     "text": [
      "Common values in given arrays:  {'s', 'h'}\n"
     ]
    }
   ],
   "source": [
    "arr = ['k','a','s','h','i']\n",
    "arr1 = ['s','h','g']\n",
    "print(\"Common values in given arrays: \",set(arr).intersection(arr1))"
   ]
  },
  {
   "cell_type": "markdown",
   "id": "7ba4faf1",
   "metadata": {},
   "source": [
    "12.Write a method to remove duplicate elements from an array."
   ]
  },
  {
   "cell_type": "code",
   "execution_count": 23,
   "id": "07c239a5",
   "metadata": {},
   "outputs": [
    {
     "name": "stdout",
     "output_type": "stream",
     "text": [
      "[11, 22, 33, 44, 55]\n"
     ]
    }
   ],
   "source": [
    "arr = [11,22,33,11,44,55]\n",
    "finalarr = [] #empty arr\n",
    "# Using loop to remove duplicated elements\n",
    "for i in arr:\n",
    "    if i not in finalarr:\n",
    "        finalarr.append(i)\n",
    "print(finalarr)        \n"
   ]
  },
  {
   "cell_type": "markdown",
   "id": "a8756fa9",
   "metadata": {},
   "source": [
    "13. Write a method to find the second largest number in an array."
   ]
  },
  {
   "cell_type": "code",
   "execution_count": 24,
   "id": "b62e863c",
   "metadata": {},
   "outputs": [
    {
     "name": "stdout",
     "output_type": "stream",
     "text": [
      "Second largest number:  808\n"
     ]
    }
   ],
   "source": [
    "arr = [101,404,202,909,606,505,808,303,707]\n",
    "arr.sort() # sorting in acending order\n",
    "print(\"Second largest number: \",arr[-2])"
   ]
  },
  {
   "cell_type": "markdown",
   "id": "9beec960",
   "metadata": {},
   "source": [
    "14.Write a method to find number of even number and odd numbers in an array."
   ]
  },
  {
   "cell_type": "code",
   "execution_count": 25,
   "id": "f7dbde34",
   "metadata": {},
   "outputs": [
    {
     "name": "stdout",
     "output_type": "stream",
     "text": [
      "Even numbers in given array:  4\n",
      "Odd numbers in given array:  5\n"
     ]
    }
   ],
   "source": [
    "arr = [1,2,3,4,5,6,7,8,9]\n",
    "evennumbers = 0\n",
    "oddnumbers = 0\n",
    "# using loop to find even and odd numbers in array.\n",
    "for i in arr:\n",
    "    if i % 2 == 0:\n",
    "         evennumbers +=1\n",
    "    else:\n",
    "        oddnumbers +=1\n",
    "print(\"Even numbers in given array: \",evennumbers)\n",
    "print(\"Odd numbers in given array: \",oddnumbers)"
   ]
  },
  {
   "cell_type": "markdown",
   "id": "f628d13f",
   "metadata": {},
   "source": [
    "15.Write a function to get the difference of largest and smallest value."
   ]
  },
  {
   "cell_type": "code",
   "execution_count": 26,
   "id": "018291f2",
   "metadata": {},
   "outputs": [
    {
     "name": "stdout",
     "output_type": "stream",
     "text": [
      "Difference of largest and smallest value:  8\n"
     ]
    }
   ],
   "source": [
    "arr = [10,6,11,13,14]\n",
    "arr.sort() # sorting in acending order [6,10,11,13,14]\n",
    "print(\"Difference of largest and smallest value: \", arr[4]-arr[0])"
   ]
  },
  {
   "cell_type": "markdown",
   "id": "1c1208c1",
   "metadata": {},
   "source": [
    "16. Write a method to verify if the array contains two specified elements(12,23)."
   ]
  },
  {
   "cell_type": "code",
   "execution_count": 27,
   "id": "e14dd2e9",
   "metadata": {},
   "outputs": [
    {
     "name": "stdout",
     "output_type": "stream",
     "text": [
      "Exist in array\n",
      "Exist in array\n"
     ]
    }
   ],
   "source": [
    "arr = [1,12,19,23,33,54]\n",
    "#using loop to find if the array contains two specified elements\n",
    "for i in arr:\n",
    "    if i == 12:\n",
    "        print(\"Exist in array\")\n",
    "    if i == 23:\n",
    "        print(\"Exist in array\")"
   ]
  },
  {
   "cell_type": "markdown",
   "id": "9f2601af",
   "metadata": {},
   "source": [
    "# Static"
   ]
  },
  {
   "cell_type": "markdown",
   "id": "a723cc69",
   "metadata": {},
   "source": [
    "1.Define a static variable and access that through a class."
   ]
  },
  {
   "cell_type": "code",
   "execution_count": 28,
   "id": "41ae67f7",
   "metadata": {},
   "outputs": [
    {
     "name": "stdout",
     "output_type": "stream",
     "text": [
      "9\n"
     ]
    }
   ],
   "source": [
    "class Python:\n",
    "# Access through class\n",
    " staticVariable = 9\n",
    "print(Python.staticVariable)    "
   ]
  },
  {
   "cell_type": "code",
   "execution_count": 29,
   "id": "c9566afb",
   "metadata": {},
   "outputs": [
    {
     "name": "stdout",
     "output_type": "stream",
     "text": [
      "12\n"
     ]
    }
   ],
   "source": [
    "# change within the class\n",
    "Python.staticVariable = 12\n",
    "print(Python.staticVariable) # Gives 12"
   ]
  },
  {
   "cell_type": "code",
   "execution_count": 30,
   "id": "56fee267",
   "metadata": {},
   "outputs": [
    {
     "name": "stdout",
     "output_type": "stream",
     "text": [
      "12\n"
     ]
    }
   ],
   "source": [
    "# access through an instance\n",
    "instance = Python()\n",
    "print(instance.staticVariable)"
   ]
  },
  {
   "cell_type": "code",
   "execution_count": 31,
   "id": "fc75b348",
   "metadata": {},
   "outputs": [
    {
     "name": "stdout",
     "output_type": "stream",
     "text": [
      "15\n",
      "12\n"
     ]
    }
   ],
   "source": [
    "# change within an instance\n",
    "instance.staticVariable = 15\n",
    "print(instance.staticVariable)\n",
    "print(Python.staticVariable)"
   ]
  },
  {
   "cell_type": "markdown",
   "id": "e71f989a",
   "metadata": {},
   "source": [
    "# String\n",
    "1.Different ways creating a string."
   ]
  },
  {
   "cell_type": "code",
   "execution_count": 32,
   "id": "2f233901",
   "metadata": {},
   "outputs": [
    {
     "name": "stdout",
     "output_type": "stream",
     "text": [
      "Hello\n"
     ]
    }
   ],
   "source": [
    "string = 'Hello'\n",
    "print(string)"
   ]
  },
  {
   "cell_type": "code",
   "execution_count": 33,
   "id": "36c8eb78",
   "metadata": {},
   "outputs": [
    {
     "name": "stdout",
     "output_type": "stream",
     "text": [
      "Hello\n"
     ]
    }
   ],
   "source": [
    "string = \"Hello\"\n",
    "print(string)"
   ]
  },
  {
   "cell_type": "code",
   "execution_count": 34,
   "id": "d71b72de",
   "metadata": {},
   "outputs": [
    {
     "name": "stdout",
     "output_type": "stream",
     "text": [
      "World\n"
     ]
    }
   ],
   "source": [
    "string1 = '''World'''\n",
    "print(string1)"
   ]
  },
  {
   "cell_type": "code",
   "execution_count": 35,
   "id": "9bc1f3eb",
   "metadata": {},
   "outputs": [
    {
     "name": "stdout",
     "output_type": "stream",
     "text": [
      "Welcome to \n",
      "           the world of Python\n",
      "\n"
     ]
    }
   ],
   "source": [
    "string2 = \"\"\"Welcome to \n",
    "           the world of Python\"\"\"\n",
    "print(string2)\n",
    "print()"
   ]
  },
  {
   "cell_type": "markdown",
   "id": "1645063d",
   "metadata": {},
   "source": [
    "2.Concatenating two strings using + operator"
   ]
  },
  {
   "cell_type": "code",
   "execution_count": 36,
   "id": "cb89ea40",
   "metadata": {},
   "outputs": [
    {
     "name": "stdout",
     "output_type": "stream",
     "text": [
      "Concatenated two different strings:  HelloWorld\n",
      "\n",
      "Length of the string:  10\n",
      "\n"
     ]
    }
   ],
   "source": [
    "str1 = string + string1\n",
    "print(\"Concatenated two different strings: \", str1)\n",
    "print()\n",
    "\n",
    "# Finding the length of the string\n",
    "print(\"Length of the string: \",len(str1))\n",
    "print()"
   ]
  },
  {
   "cell_type": "markdown",
   "id": "891dbecb",
   "metadata": {},
   "source": [
    "3.Searching in strings using index()"
   ]
  },
  {
   "cell_type": "code",
   "execution_count": 37,
   "id": "6bad00ef",
   "metadata": {},
   "outputs": [
    {
     "name": "stdout",
     "output_type": "stream",
     "text": [
      "Position of ish:  4\n",
      "Position of h:  3\n"
     ]
    }
   ],
   "source": [
    "str3 = 'kashish'\n",
    "str1 = 'ish'\n",
    "str2 = 'h'\n",
    "print(\"Position of ish: \", str3.index(str1))\n",
    "print(\"Position of h: \", str3.index(str2))"
   ]
  },
  {
   "cell_type": "markdown",
   "id": "21af2dc2",
   "metadata": {},
   "source": [
    "4. Matching a String Against a Regular Expression With matches()."
   ]
  },
  {
   "cell_type": "code",
   "execution_count": 38,
   "id": "d3be4910",
   "metadata": {},
   "outputs": [
    {
     "name": "stdout",
     "output_type": "stream",
     "text": [
      "<re.Match object; span=(0, 6), match='Madara'>\n",
      "\n"
     ]
    }
   ],
   "source": [
    "from ast import Str\n",
    "import re\n",
    "Substr = 'Madara'\n",
    "str6 = 'Madara once said - wake up to reality nothing goes as planned in this cursed world'\n",
    "print(re.match(Substr,str6))\n",
    "print()"
   ]
  },
  {
   "cell_type": "markdown",
   "id": "db917ea7",
   "metadata": {},
   "source": [
    "5.Comparing strings."
   ]
  },
  {
   "cell_type": "code",
   "execution_count": 39,
   "id": "d14ff1c2",
   "metadata": {},
   "outputs": [
    {
     "name": "stdout",
     "output_type": "stream",
     "text": [
      "str8 == str1\n",
      "str8 == str2\n",
      "str1 == str2\n",
      "str8 =! str1\n",
      "\n"
     ]
    }
   ],
   "source": [
    "str8 = 'Itachi uchiha'\n",
    "str1 = 'Madara uchiha'\n",
    "str2 = str8\n",
    "print('str8 == str1')\n",
    "print('str8 == str2')\n",
    "print('str1 == str2')\n",
    "print('str8 =! str1')\n",
    "print()"
   ]
  },
  {
   "cell_type": "markdown",
   "id": "6c026e23",
   "metadata": {},
   "source": [
    "6.startsWith(), endsWith()."
   ]
  },
  {
   "cell_type": "code",
   "execution_count": 40,
   "id": "ea0ca2a9",
   "metadata": {},
   "outputs": [
    {
     "name": "stdout",
     "output_type": "stream",
     "text": [
      "True\n",
      "True\n",
      "\n"
     ]
    }
   ],
   "source": [
    "string = \"Minato Namikaze\"\n",
    "print(string.startswith(\"Minato\"))\n",
    "print(string.endswith(\"Namikaze\"))\n",
    "print()"
   ]
  },
  {
   "cell_type": "markdown",
   "id": "35ac5332",
   "metadata": {},
   "source": [
    "7. Trimming strings with strip()."
   ]
  },
  {
   "cell_type": "code",
   "execution_count": 41,
   "id": "6c25d207",
   "metadata": {},
   "outputs": [
    {
     "name": "stdout",
     "output_type": "stream",
     "text": [
      "Hello world \n",
      "\n"
     ]
    }
   ],
   "source": [
    "str7 = 'Hello world hi'\n",
    "print(str7.strip(\"hi\"))\n",
    "print()"
   ]
  },
  {
   "cell_type": "markdown",
   "id": "500167d5",
   "metadata": {},
   "source": [
    "8. Replacing characters in strings with replace()"
   ]
  },
  {
   "cell_type": "code",
   "execution_count": null,
   "id": "cecfb346",
   "metadata": {},
   "outputs": [],
   "source": [
    "string = 'Hi World'\n",
    "print(string.replace('Hi','Hello'))\n",
    "print()"
   ]
  },
  {
   "cell_type": "markdown",
   "id": "12b78fcc",
   "metadata": {},
   "source": [
    "9.Splitting strings with split()"
   ]
  },
  {
   "cell_type": "code",
   "execution_count": 42,
   "id": "a3d0002e",
   "metadata": {},
   "outputs": [
    {
     "name": "stdout",
     "output_type": "stream",
     "text": [
      "['hi', 'hello', 'bye']\n",
      "\n"
     ]
    }
   ],
   "source": [
    "str9 = 'hi-hello-bye'\n",
    "print(str9.split(\"-\"))\n",
    "print()"
   ]
  },
  {
   "cell_type": "markdown",
   "id": "ea830a03",
   "metadata": {},
   "source": [
    "10.Converting integer objects to Strings."
   ]
  },
  {
   "cell_type": "code",
   "execution_count": null,
   "id": "a24ecb9b",
   "metadata": {},
   "outputs": [],
   "source": [
    "numb = 10\n",
    "numb1 = str(numb)  \n",
    "print(numb1)\n",
    "print(type(numb1))"
   ]
  },
  {
   "cell_type": "markdown",
   "id": "763eedfa",
   "metadata": {},
   "source": [
    "11.Converting to uppercase and lowercase."
   ]
  },
  {
   "cell_type": "code",
   "execution_count": 43,
   "id": "2b21d7be",
   "metadata": {},
   "outputs": [
    {
     "name": "stdout",
     "output_type": "stream",
     "text": [
      "hello\n",
      "WORLD\n"
     ]
    }
   ],
   "source": [
    "string = 'hello'\n",
    "string1 = 'WORLD'\n",
    "print(string.lower())\n",
    "print(string1.upper())"
   ]
  },
  {
   "cell_type": "markdown",
   "id": "a0e47c22",
   "metadata": {},
   "source": [
    "# Inheritance"
   ]
  },
  {
   "cell_type": "code",
   "execution_count": 44,
   "id": "762df357",
   "metadata": {},
   "outputs": [],
   "source": [
    "class A():\n",
    "    def display(dp):\n",
    "        print(\"Display Inside calss A\")\n",
    "\n",
    "# class A show method\n",
    "    def show(self):\n",
    "        print(\"Show Inside class A\")"
   ]
  },
  {
   "cell_type": "code",
   "execution_count": 45,
   "id": "65efdf55",
   "metadata": {},
   "outputs": [],
   "source": [
    "# Inherited or subclass (Note A in brackets)\n",
    "class B (A):\n",
    "    def print(pt):\n",
    "            print(\"Print Inside class B\")\n",
    "        # class B show method     \n",
    "    def show(self):\n",
    "            print(\"Show Iside class B\")       "
   ]
  },
  {
   "cell_type": "code",
   "execution_count": 46,
   "id": "e61292a3",
   "metadata": {},
   "outputs": [],
   "source": [
    "# Inherited or Sub class (Note B in bracket) \n",
    "class C (B): \n",
    "          \n",
    "    # class C show method\n",
    "    def show(self):\n",
    "        print(\"Show Inside class C \")"
   ]
  },
  {
   "cell_type": "code",
   "execution_count": 47,
   "id": "2efc3770",
   "metadata": {},
   "outputs": [
    {
     "name": "stdout",
     "output_type": "stream",
     "text": [
      "Display Inside calss A\n",
      "Print Inside class B\n",
      "Show Inside class C \n"
     ]
    }
   ],
   "source": [
    "#Driver code \n",
    "s = A()\n",
    "s.display()\n",
    "k= B()\n",
    "k.print()\n",
    "g = C()   \n",
    "g.show()"
   ]
  },
  {
   "cell_type": "markdown",
   "id": "d9650dfa",
   "metadata": {},
   "source": [
    "# Access modifiers"
   ]
  },
  {
   "cell_type": "code",
   "execution_count": 48,
   "id": "304f18ec",
   "metadata": {},
   "outputs": [],
   "source": [
    "# super class\n",
    "class Super:\n",
    "     \n",
    "     # public data member\n",
    "     var1 = None\n",
    " \n",
    "     # protected data member\n",
    "     _var2 = None\n",
    "      \n",
    "     # private data member\n",
    "     __var3 = None"
   ]
  },
  {
   "cell_type": "code",
   "execution_count": 49,
   "id": "2f5e79dc",
   "metadata": {},
   "outputs": [],
   "source": [
    " #constructor\n",
    "def __init__(self, var1, var2, var3): \n",
    "          self.var1 = var1\n",
    "          self._var2 = var2\n",
    "          self.__var3 = var3"
   ]
  },
  {
   "cell_type": "code",
   "execution_count": 50,
   "id": "d207d843",
   "metadata": {},
   "outputs": [],
   "source": [
    " #public member function  \n",
    "def displayPublicMembers(self):\n",
    "  \n",
    "          # accessing public data members\n",
    "          print(\"Public Data Member: \", self.var1)\n",
    "        \n",
    "# protected member function  \n",
    "def _displayProtectedMembers(self):\n",
    "  \n",
    "          # accessing protected data members\n",
    "          print(\"Protected Data Member: \", self._var2)"
   ]
  },
  {
   "cell_type": "code",
   "execution_count": 51,
   "id": "eaab45e0",
   "metadata": {},
   "outputs": [],
   "source": [
    " # private member function  \n",
    "def __displayPrivateMembers(self):\n",
    "  \n",
    "          # accessing private data members\n",
    "          print(\"Private Data Member: \", self.__var3)\n",
    " \n",
    "# public member function\n",
    "def accessPrivateMembers(self):    \n",
    "           \n",
    "          # accessing private member function\n",
    "          self.__displayPrivateMembers()"
   ]
  },
  {
   "cell_type": "code",
   "execution_count": 52,
   "id": "c49a86ae",
   "metadata": {},
   "outputs": [],
   "source": [
    "# derived class\n",
    "class Sub(Super):\n",
    "  \n",
    "      # constructor\n",
    "       def __init__(self, var1, var2, var3):\n",
    "                Super.__init__(self, var1, var2, var3)\n",
    "           \n",
    "      # public member function\n",
    "       def accessProtectedMembers(self):\n",
    "                 \n",
    "                # accessing protected member functions of super class\n",
    "                self._displayProtectedMembers()"
   ]
  },
  {
   "cell_type": "code",
   "execution_count": 53,
   "id": "b184bb39",
   "metadata": {},
   "outputs": [
    {
     "ename": "TypeError",
     "evalue": "object.__init__() takes exactly one argument (the instance to initialize)",
     "output_type": "error",
     "traceback": [
      "\u001b[1;31m---------------------------------------------------------------------------\u001b[0m",
      "\u001b[1;31mTypeError\u001b[0m                                 Traceback (most recent call last)",
      "Cell \u001b[1;32mIn[53], line 2\u001b[0m\n\u001b[0;32m      1\u001b[0m \u001b[38;5;66;03m#creating objects of the derived class    \u001b[39;00m\n\u001b[1;32m----> 2\u001b[0m obj \u001b[38;5;241m=\u001b[39m Sub(\u001b[38;5;124m\"\u001b[39m\u001b[38;5;124mKG\u001b[39m\u001b[38;5;124m\"\u001b[39m, \u001b[38;5;241m5\u001b[39m , \u001b[38;5;124m\"\u001b[39m\u001b[38;5;124mKG !\u001b[39m\u001b[38;5;124m\"\u001b[39m)\n\u001b[0;32m      4\u001b[0m \u001b[38;5;66;03m# calling public member functions of the class\u001b[39;00m\n\u001b[0;32m      5\u001b[0m obj\u001b[38;5;241m.\u001b[39mdisplayPublicMembers()\n",
      "Cell \u001b[1;32mIn[52], line 6\u001b[0m, in \u001b[0;36mSub.__init__\u001b[1;34m(self, var1, var2, var3)\u001b[0m\n\u001b[0;32m      5\u001b[0m \u001b[38;5;28;01mdef\u001b[39;00m \u001b[38;5;21m__init__\u001b[39m(\u001b[38;5;28mself\u001b[39m, var1, var2, var3):\n\u001b[1;32m----> 6\u001b[0m          Super\u001b[38;5;241m.\u001b[39m\u001b[38;5;21m__init__\u001b[39m(\u001b[38;5;28mself\u001b[39m, var1, var2, var3)\n",
      "\u001b[1;31mTypeError\u001b[0m: object.__init__() takes exactly one argument (the instance to initialize)"
     ]
    }
   ],
   "source": [
    "#creating objects of the derived class    \n",
    "obj = Sub(\"KG\", 5 , \"KG !\")\n",
    " \n",
    "# calling public member functions of the class\n",
    "obj.displayPublicMembers()\n",
    "obj.accessProtectedMembers()\n",
    "obj.accessPrivateMembers()\n",
    "\n",
    "# Object can access protected member\n",
    "print(\"Object is accessing protected member:\", obj._var2)\n",
    " \n",
    "# object can not access private member, so it will generate Attribute error\n",
    "#print(obj.__var3)"
   ]
  },
  {
   "cell_type": "markdown",
   "id": "38b595d3",
   "metadata": {},
   "source": [
    "# Abstract class"
   ]
  },
  {
   "cell_type": "code",
   "execution_count": 54,
   "id": "a2f911d9",
   "metadata": {},
   "outputs": [],
   "source": [
    "from abc import ABC, abstractmethod\n",
    "\n",
    "class Polygon (ABC): #base class / super class\n",
    "    @abstractmethod\n",
    "    def noofsides(self):\n",
    "        pass\n",
    "\n",
    "class Triangle(Polygon): #subclass\n",
    "    \n",
    "    #overriding abstract method\n",
    "    def noofsides(self):\n",
    "        print(\"Triangle: I have 3 sides\")"
   ]
  },
  {
   "cell_type": "code",
   "execution_count": 55,
   "id": "f738c1da",
   "metadata": {},
   "outputs": [],
   "source": [
    "class Pentagon(Polygon): #subclass\n",
    "    \n",
    "    #overriding abstract method\n",
    "    def noofsides(self):\n",
    "        print(\"Pentagon: I have 5 sides\")\n",
    "        \n",
    "class Hexagon(Polygon): #subclass\n",
    "    \n",
    "    #overriding abstract method\n",
    "    def noofsides(self):\n",
    "        print(\"Hexagon: I have 6 sides\")\n",
    "        \n",
    "class Quadrilatera(Polygon): #subclass\n",
    "    \n",
    "    #overriding abstract method\n",
    "    def noofsides(self):\n",
    "        print(\"Quadrilateral: I have 4 sides\")\n",
    "    "
   ]
  },
  {
   "cell_type": "code",
   "execution_count": 56,
   "id": "2019efdb",
   "metadata": {},
   "outputs": [
    {
     "name": "stdout",
     "output_type": "stream",
     "text": [
      "Triangle: I have 3 sides\n"
     ]
    },
    {
     "ename": "NameError",
     "evalue": "name 'Quadrilateral' is not defined",
     "output_type": "error",
     "traceback": [
      "\u001b[1;31m---------------------------------------------------------------------------\u001b[0m",
      "\u001b[1;31mNameError\u001b[0m                                 Traceback (most recent call last)",
      "Cell \u001b[1;32mIn[56], line 6\u001b[0m\n\u001b[0;32m      3\u001b[0m R \u001b[38;5;241m=\u001b[39m Triangle()\n\u001b[0;32m      4\u001b[0m R\u001b[38;5;241m.\u001b[39mnoofsides()\n\u001b[1;32m----> 6\u001b[0m K \u001b[38;5;241m=\u001b[39m Quadrilateral()\n\u001b[0;32m      7\u001b[0m K\u001b[38;5;241m.\u001b[39mnoofsides()\n\u001b[0;32m      9\u001b[0m R \u001b[38;5;241m=\u001b[39m Pentagon()\n",
      "\u001b[1;31mNameError\u001b[0m: name 'Quadrilateral' is not defined"
     ]
    }
   ],
   "source": [
    "# Driver code\n",
    "# Creating the objects to call the abstract method.\n",
    "R = Triangle()\n",
    "R.noofsides()\n",
    " \n",
    "K = Quadrilateral()\n",
    "K.noofsides()\n",
    " \n",
    "R = Pentagon()\n",
    "R.noofsides()\n",
    " \n",
    "K = Hexagon()\n",
    "K.noofsides()"
   ]
  },
  {
   "cell_type": "markdown",
   "id": "0ced032e",
   "metadata": {},
   "source": [
    "# Files"
   ]
  },
  {
   "cell_type": "code",
   "execution_count": 83,
   "id": "ab408b91",
   "metadata": {},
   "outputs": [
    {
     "ename": "FileNotFoundError",
     "evalue": "[Errno 2] No such file or directory: 'HW.txt,r'",
     "output_type": "error",
     "traceback": [
      "\u001b[1;31m---------------------------------------------------------------------------\u001b[0m",
      "\u001b[1;31mFileNotFoundError\u001b[0m                         Traceback (most recent call last)",
      "Cell \u001b[1;32mIn[83], line 3\u001b[0m\n\u001b[0;32m      1\u001b[0m \u001b[38;5;66;03m# Write a program to read text files\u001b[39;00m\n\u001b[1;32m----> 3\u001b[0m file1 \u001b[38;5;241m=\u001b[39m \u001b[38;5;28mopen\u001b[39m(\u001b[38;5;124m\"\u001b[39m\u001b[38;5;124mHW.txt,r\u001b[39m\u001b[38;5;124m\"\u001b[39m)\n\u001b[0;32m      4\u001b[0m data \u001b[38;5;241m=\u001b[39m file1\u001b[38;5;241m.\u001b[39mread()\n\u001b[0;32m      5\u001b[0m \u001b[38;5;28mprint\u001b[39m(data)\n",
      "File \u001b[1;32mC:\\local disk c\\Lib\\site-packages\\IPython\\core\\interactiveshell.py:286\u001b[0m, in \u001b[0;36m_modified_open\u001b[1;34m(file, *args, **kwargs)\u001b[0m\n\u001b[0;32m    279\u001b[0m \u001b[38;5;28;01mif\u001b[39;00m file \u001b[38;5;129;01min\u001b[39;00m {\u001b[38;5;241m0\u001b[39m, \u001b[38;5;241m1\u001b[39m, \u001b[38;5;241m2\u001b[39m}:\n\u001b[0;32m    280\u001b[0m     \u001b[38;5;28;01mraise\u001b[39;00m \u001b[38;5;167;01mValueError\u001b[39;00m(\n\u001b[0;32m    281\u001b[0m         \u001b[38;5;124mf\u001b[39m\u001b[38;5;124m\"\u001b[39m\u001b[38;5;124mIPython won\u001b[39m\u001b[38;5;124m'\u001b[39m\u001b[38;5;124mt let you open fd=\u001b[39m\u001b[38;5;132;01m{\u001b[39;00mfile\u001b[38;5;132;01m}\u001b[39;00m\u001b[38;5;124m by default \u001b[39m\u001b[38;5;124m\"\u001b[39m\n\u001b[0;32m    282\u001b[0m         \u001b[38;5;124m\"\u001b[39m\u001b[38;5;124mas it is likely to crash IPython. If you know what you are doing, \u001b[39m\u001b[38;5;124m\"\u001b[39m\n\u001b[0;32m    283\u001b[0m         \u001b[38;5;124m\"\u001b[39m\u001b[38;5;124myou can use builtins\u001b[39m\u001b[38;5;124m'\u001b[39m\u001b[38;5;124m open.\u001b[39m\u001b[38;5;124m\"\u001b[39m\n\u001b[0;32m    284\u001b[0m     )\n\u001b[1;32m--> 286\u001b[0m \u001b[38;5;28;01mreturn\u001b[39;00m io_open(file, \u001b[38;5;241m*\u001b[39margs, \u001b[38;5;241m*\u001b[39m\u001b[38;5;241m*\u001b[39mkwargs)\n",
      "\u001b[1;31mFileNotFoundError\u001b[0m: [Errno 2] No such file or directory: 'HW.txt,r'"
     ]
    }
   ],
   "source": [
    "# Write a program to read text files\n",
    "\n",
    "file1 = open(\"HW.txt,r\")\n",
    "data = file1.read()\n",
    "print(data)\n",
    "print\n",
    "\n",
    "file2 = open(\"Blank.txt,w\")\n",
    "str1 = ('Python')\n",
    "file2.write(str1)\n",
    "print()\n",
    "\n",
    "file3 = open(\"HW.txt,r+\")\n",
    "print(file3.readline (11))\n",
    "print\n"
   ]
  },
  {
   "cell_type": "markdown",
   "id": "49da7f8c",
   "metadata": {},
   "source": [
    "# Constructor"
   ]
  },
  {
   "cell_type": "code",
   "execution_count": 14,
   "id": "43601628",
   "metadata": {},
   "outputs": [
    {
     "name": "stdout",
     "output_type": "stream",
     "text": [
      "Kashish\n",
      "KG\n",
      "Name: Kashish\n",
      "Roll: 5\n",
      "Branch: CSE\n"
     ]
    }
   ],
   "source": [
    "from unicodedata import name\n",
    "\n",
    "\n",
    "class A:\n",
    "    # default constructor\n",
    "    def __init__(self):\n",
    "     self.name = \"Kashish\"\n",
    "     # a method for printing data members\n",
    "    def print_A(self):\n",
    "        print(self.name)\n",
    "# creating object of the class\n",
    "obj = A()\n",
    "# calling the instance method using the object obj\n",
    "obj.print_A()\n",
    "\n",
    "class B(A):\n",
    "    def __init__(self):\n",
    "     self.name = \"KG\"\n",
    "    def print_B(self):\n",
    "        print(self.name)\n",
    "obj1 = B()\n",
    "obj1.print_B()\n",
    "\n",
    "class C:\n",
    "    # public data member\n",
    "    name = None\n",
    "\n",
    "     # protected data members\n",
    "    _roll = None \n",
    "\n",
    "     # private data member\n",
    "    __branch = None\n",
    "\n",
    "    # constructor\n",
    "    def __init__(self,name,roll,branch):\n",
    "        self.name = name  \n",
    "        self._roll = roll\n",
    "        self.__branch = branch  \n",
    "    def dsiplayName(self):\n",
    "        print(\"Name:\",self.name)\n",
    "        # protected member function\n",
    "    def _displayRoll(self):\n",
    "         # accessing protected data members\n",
    "        print(\"Roll:\",self._roll)\n",
    "\n",
    "         # private member function \n",
    "    def __displayBranch(self):\n",
    "        # accessing private data members\n",
    "        print(\"Branch:\",self.__branch)\n",
    "\n",
    "         # public member function\n",
    "    def access__displayBranch(self):     \n",
    "          # accessing private member function\n",
    "        self.__displayBranch()\n",
    "\n",
    "class D(C):\n",
    "    def __init__(self,name, roll, branch):\n",
    "        super().__init__(name,roll, branch)\n",
    "      # public member function\n",
    "    def access_displayRoll(self):            \n",
    "         # accessing protected member functions of super class\n",
    "        self._displayRoll()\n",
    "\n",
    "# creating objects of the derived class    \n",
    "obj = D(\"Kashish\", 5 , \"CSE\")\n",
    "# calling public member functions of the class  \n",
    "obj.dsiplayName()"
   ]
  },
  {
   "cell_type": "markdown",
   "id": "9b0904bf",
   "metadata": {},
   "source": [
    "# Exceptions"
   ]
  },
  {
   "cell_type": "code",
   "execution_count": 16,
   "id": "b941c74b",
   "metadata": {},
   "outputs": [
    {
     "name": "stdout",
     "output_type": "stream",
     "text": [
      "Second element =  2\n",
      "An error occured\n",
      "\n"
     ]
    }
   ],
   "source": [
    "a =[1,2,3]\n",
    "try:\n",
    "    print(\"Second element = \",a[1])\n",
    "    \n",
    "    \n",
    "    # Throws an error since there are only 3 elements in array\n",
    "    print(\"Fourth element= \",a[3])\n",
    "    \n",
    "    \n",
    "except: print(\"An error occured\")\n",
    "print()\n",
    "    "
   ]
  },
  {
   "cell_type": "code",
   "execution_count": 17,
   "id": "d6eb2616",
   "metadata": {},
   "outputs": [
    {
     "name": "stdout",
     "output_type": "stream",
     "text": [
      "Both equal\n"
     ]
    }
   ],
   "source": [
    "b = [3,2,1]\n",
    "try:\n",
    "    a == b\n",
    "except:\n",
    "    print(\"They are not equal\")\n",
    "else:\n",
    "    print(\"Both equal\")"
   ]
  },
  {
   "cell_type": "markdown",
   "id": "699eb817",
   "metadata": {},
   "source": [
    "# Dictionary"
   ]
  },
  {
   "cell_type": "code",
   "execution_count": 18,
   "id": "7dc14c7b",
   "metadata": {},
   "outputs": [
    {
     "name": "stdout",
     "output_type": "stream",
     "text": [
      "Dictionary with each item as a pair: {1: 'Kashish', 2: 'Kritika', 3: 'Aastha', 4: 'Vaishali', 5: 'Muskan'}\n",
      "\n",
      " Dictionary with new item added: {1: 'Kashish', 2: 'Kritika', 3: 'Aastha', 4: 'Vaishali', 5: 'Muskan', 6: 'Nitya'}\n",
      "\n",
      " Dictionary with updated values: {1: 'Kashish', 2: 'Kritika', 3: 'Navdisha', 4: 'Vaishali', 5: 'Muskan', 6: 'Nitya'}\n",
      "\n",
      " Accessing one value in Dictionary: Kashish\n",
      "\n",
      " Delete a value from a Dictionary: {1: 'Kashish', 2: 'Kritika', 3: 'Navdisha', 4: 'Vaishali', 5: 'Muskan'}\n",
      "\n",
      " Nested loop Dictionary: {1: 'Kashish', 2: 'Kritika', 3: {'Age': 18, 'Branch': 'CSE', 'Year': 'Third Year'}}\n",
      "\n",
      " Accessing an element of a Nested Dictionary: Kritika\n"
     ]
    }
   ],
   "source": [
    "#Creating dictionary\n",
    "Dict = dict([(1,'Kashish'), (2,'Kritika'), (3,'Aastha'), (4,'Vaishali'), (5,'Muskan')])\n",
    "print(\"Dictionary with each item as a pair:\",Dict) #printing dictionary\n",
    "\n",
    "#adding element in dictionary\n",
    "Dict[6] = 'Nitya'\n",
    "print(\"\\n Dictionary with new item added:\",Dict)\n",
    "\n",
    "#updating values in dictionary\n",
    "Dict[3] = 'Navdisha'\n",
    "print(\"\\n Dictionary with updated values:\",Dict)\n",
    "\n",
    "print(\"\\n Accessing one value in Dictionary:\",Dict[1])\n",
    "\n",
    "#deleting value from drictionary\n",
    "del Dict[6]\n",
    "print(\"\\n Delete a value from a Dictionary:\",Dict)\n",
    "\n",
    "#creating a nested dictionary\n",
    "Dict1 = {1: 'Kashish', 2: 'Kritika',\n",
    "        3:{'Age' : 18, 'Branch' : 'CSE', 'Year' : 'Third Year'}}\n",
    "print(\"\\n Nested loop Dictionary:\",Dict1)\n",
    "\n",
    "print(\"\\n Accessing an element of a Nested Dictionary:\",Dict1[2])\n"
   ]
  },
  {
   "cell_type": "code",
   "execution_count": null,
   "id": "fde1c649",
   "metadata": {},
   "outputs": [],
   "source": []
  }
 ],
 "metadata": {
  "kernelspec": {
   "display_name": "Python 3 (ipykernel)",
   "language": "python",
   "name": "python3"
  },
  "language_info": {
   "codemirror_mode": {
    "name": "ipython",
    "version": 3
   },
   "file_extension": ".py",
   "mimetype": "text/x-python",
   "name": "python",
   "nbconvert_exporter": "python",
   "pygments_lexer": "ipython3",
   "version": "3.11.5"
  }
 },
 "nbformat": 4,
 "nbformat_minor": 5
}
